{
 "cells": [
  {
   "cell_type": "code",
   "execution_count": 1,
   "metadata": {},
   "outputs": [],
   "source": [
    "import pandas as pd\n",
    "import sqlite3"
   ]
  },
  {
   "cell_type": "code",
   "execution_count": 2,
   "metadata": {},
   "outputs": [],
   "source": [
    "schools_df = pd.read_csv('DOE_High_School_Directory_2016-geocoded.csv')\n",
    "scores_df = pd.read_csv('SAT__College_Board__2010_School_Level_Results.csv')"
   ]
  },
  {
   "cell_type": "code",
   "execution_count": 3,
   "metadata": {},
   "outputs": [
    {
     "data": {
      "text/html": [
       "<div>\n",
       "<style scoped>\n",
       "    .dataframe tbody tr th:only-of-type {\n",
       "        vertical-align: middle;\n",
       "    }\n",
       "\n",
       "    .dataframe tbody tr th {\n",
       "        vertical-align: top;\n",
       "    }\n",
       "\n",
       "    .dataframe thead th {\n",
       "        text-align: right;\n",
       "    }\n",
       "</style>\n",
       "<table border=\"1\" class=\"dataframe\">\n",
       "  <thead>\n",
       "    <tr style=\"text-align: right;\">\n",
       "      <th></th>\n",
       "      <th>dbn</th>\n",
       "      <th>school_name</th>\n",
       "      <th>boro</th>\n",
       "      <th>building_code</th>\n",
       "      <th>shared_space</th>\n",
       "      <th>phone_number</th>\n",
       "      <th>fax_number</th>\n",
       "      <th>school_email</th>\n",
       "      <th>grade_span_min</th>\n",
       "      <th>grade_span_max</th>\n",
       "      <th>...</th>\n",
       "      <th>is_match</th>\n",
       "      <th>latitude</th>\n",
       "      <th>longitude</th>\n",
       "      <th>returned_address</th>\n",
       "      <th>side</th>\n",
       "      <th>state</th>\n",
       "      <th>state_fips</th>\n",
       "      <th>tiger_line</th>\n",
       "      <th>tract</th>\n",
       "      <th>zipcode</th>\n",
       "    </tr>\n",
       "  </thead>\n",
       "  <tbody>\n",
       "    <tr>\n",
       "      <th>0</th>\n",
       "      <td>01M292</td>\n",
       "      <td>Henry Street School for International Studies</td>\n",
       "      <td>Manhattan</td>\n",
       "      <td>M056</td>\n",
       "      <td>Yes</td>\n",
       "      <td>212-406-9411</td>\n",
       "      <td>212-406-9417</td>\n",
       "      <td>cloughl@schools.nyc.gov</td>\n",
       "      <td>6</td>\n",
       "      <td>12</td>\n",
       "      <td>...</td>\n",
       "      <td>Match</td>\n",
       "      <td>40.713700</td>\n",
       "      <td>-73.98620</td>\n",
       "      <td>220 HENRY ST, NEW YORK, NY, 10002</td>\n",
       "      <td>R</td>\n",
       "      <td>NY</td>\n",
       "      <td>36.0</td>\n",
       "      <td>59654332.0</td>\n",
       "      <td>201.0</td>\n",
       "      <td>10002</td>\n",
       "    </tr>\n",
       "    <tr>\n",
       "      <th>1</th>\n",
       "      <td>01M448</td>\n",
       "      <td>University Neighborhood High School</td>\n",
       "      <td>Manhattan</td>\n",
       "      <td>M446</td>\n",
       "      <td>No</td>\n",
       "      <td>212-962-4341</td>\n",
       "      <td>212-267-5611</td>\n",
       "      <td>ransonunhs@gmail.com</td>\n",
       "      <td>9</td>\n",
       "      <td>12</td>\n",
       "      <td>...</td>\n",
       "      <td>Match</td>\n",
       "      <td>40.712418</td>\n",
       "      <td>-73.98436</td>\n",
       "      <td>200 MONROE ST, NEW YORK, NY, 10002</td>\n",
       "      <td>R</td>\n",
       "      <td>NY</td>\n",
       "      <td>36.0</td>\n",
       "      <td>59663661.0</td>\n",
       "      <td>202.0</td>\n",
       "      <td>10002</td>\n",
       "    </tr>\n",
       "  </tbody>\n",
       "</table>\n",
       "<p>2 rows × 76 columns</p>\n",
       "</div>"
      ],
      "text/plain": [
       "      dbn                                    school_name       boro  \\\n",
       "0  01M292  Henry Street School for International Studies  Manhattan   \n",
       "1  01M448            University Neighborhood High School  Manhattan   \n",
       "\n",
       "  building_code shared_space  phone_number    fax_number  \\\n",
       "0          M056          Yes  212-406-9411  212-406-9417   \n",
       "1          M446           No  212-962-4341  212-267-5611   \n",
       "\n",
       "              school_email  grade_span_min  grade_span_max   ...    is_match  \\\n",
       "0  cloughl@schools.nyc.gov               6              12   ...       Match   \n",
       "1     ransonunhs@gmail.com               9              12   ...       Match   \n",
       "\n",
       "    latitude  longitude                    returned_address side state  \\\n",
       "0  40.713700  -73.98620   220 HENRY ST, NEW YORK, NY, 10002    R    NY   \n",
       "1  40.712418  -73.98436  200 MONROE ST, NEW YORK, NY, 10002    R    NY   \n",
       "\n",
       "  state_fips  tiger_line  tract zipcode  \n",
       "0       36.0  59654332.0  201.0   10002  \n",
       "1       36.0  59663661.0  202.0   10002  \n",
       "\n",
       "[2 rows x 76 columns]"
      ]
     },
     "execution_count": 3,
     "metadata": {},
     "output_type": "execute_result"
    }
   ],
   "source": [
    "schools_df.head(2)"
   ]
  },
  {
   "cell_type": "code",
   "execution_count": null,
   "metadata": {},
   "outputs": [],
   "source": []
  }
 ],
 "metadata": {
  "kernelspec": {
   "display_name": "Python 3",
   "language": "python",
   "name": "python3"
  },
  "language_info": {
   "codemirror_mode": {
    "name": "ipython",
    "version": 3
   },
   "file_extension": ".py",
   "mimetype": "text/x-python",
   "name": "python",
   "nbconvert_exporter": "python",
   "pygments_lexer": "ipython3",
   "version": "3.6.5"
  }
 },
 "nbformat": 4,
 "nbformat_minor": 2
}
